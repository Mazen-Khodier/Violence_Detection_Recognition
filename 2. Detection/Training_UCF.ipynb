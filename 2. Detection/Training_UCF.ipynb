{
 "cells": [
  {
   "cell_type": "code",
   "execution_count": 1,
   "id": "156efdc3",
   "metadata": {},
   "outputs": [],
   "source": [
    "data, full = 'UCF', 'UCF-Crime'\n",
    "venv = f'C:\\\\Users\\\\cps1\\\\violence_project\\\\venv\\\\Violence'\n",
    "# path = f'{venv}\\\\Final_Detection\\\\{data}_Data\\\\Classification'\n",
    "path = f'{venv}\\\\..\\\\classification\\\\{data}'"
   ]
  },
  {
   "cell_type": "code",
   "execution_count": 2,
   "id": "71bc7846",
   "metadata": {
    "id": "BdsTzowmT2em"
   },
   "outputs": [],
   "source": [
    "import os\n",
    "import sys\n",
    "import cv2\n",
    "import zipfile\n",
    "import numpy as np\n",
    "import imageio\n",
    "import matplotlib.pyplot as plt\n",
    "import tensorflow as tf\n",
    "from sklearn import svm\n",
    "from sklearn.model_selection import train_test_split\n",
    "# from tensorflow_docs.vis import embed\n",
    "from tensorflow import keras\n",
    "from imutils import paths\n",
    "from tensorflow.keras import layers, models"
   ]
  },
  {
   "cell_type": "code",
   "execution_count": 3,
   "id": "ff970572",
   "metadata": {},
   "outputs": [],
   "source": [
    "x_train = np.load(f'{path}\\\\{data}_x_train_4000.npy')[:5000]\n",
    "y_train = [1 for i in range(len(x_train))]\n",
    "# y_train = np.load(f'{path}\\\\XD_y_train_4000.npy')\n",
    "# x_test = np.load(f'{path}\\\\x_test.npy')\n",
    "# y_test = np.load(f'{path}\\\\y_test.npy')\n",
    "# x_val = np.load(f'{path}\\\\x_val.npy')\n",
    "# y_val = np.load(f'{path}\\\\y_val.npy')"
   ]
  },
  {
   "cell_type": "code",
   "execution_count": 4,
   "id": "4a5d879c",
   "metadata": {},
   "outputs": [],
   "source": [
    "x_train_2 = np.load(f'{venv}\\\\Final_Detection\\\\{data}_Data\\\\Classification\\\\nv_{data}_x.npy')\n",
    "y_train_2 = np.load(f'{venv}\\\\Final_Detection\\\\{data}_Data\\\\Classification\\\\nv_{data}_y.npy')"
   ]
  },
  {
   "cell_type": "code",
   "execution_count": 5,
   "id": "c7c6cbe2",
   "metadata": {},
   "outputs": [],
   "source": [
    "x_train = np.concatenate((x_train,x_train_2))\n",
    "y_train = np.concatenate((np.array(y_train),np.array(y_train_2)))\n",
    "x_train = np.moveaxis(x_train, 1, 3)"
   ]
  },
  {
   "cell_type": "code",
   "execution_count": 6,
   "id": "9d404f38",
   "metadata": {},
   "outputs": [],
   "source": [
    "x_train, x_rem, y_train, y_rem = train_test_split(x_train, y_train,  train_size=0.7,shuffle = True, random_state=7)"
   ]
  },
  {
   "cell_type": "code",
   "execution_count": 7,
   "id": "c848d69d",
   "metadata": {},
   "outputs": [],
   "source": [
    "x_valid, x_test, y_valid, y_test = train_test_split(x_rem,y_rem, test_size=0.5, shuffle = True,  random_state=7)"
   ]
  },
  {
   "cell_type": "code",
   "execution_count": 8,
   "id": "56e0408b",
   "metadata": {},
   "outputs": [
    {
     "data": {
      "text/plain": [
       "(7359, 75, 75, 15, 3)"
      ]
     },
     "execution_count": 8,
     "metadata": {},
     "output_type": "execute_result"
    }
   ],
   "source": [
    "x_train.shape"
   ]
  },
  {
   "cell_type": "code",
   "execution_count": 9,
   "id": "121082ec",
   "metadata": {},
   "outputs": [],
   "source": [
    "# x_train = np.moveaxis(x_train, 1, 3)\n",
    "# x_test = np.moveaxis(x_test, 1, 3)\n",
    "# x_val = np.moveaxis(x_val, 1, 3)"
   ]
  },
  {
   "cell_type": "code",
   "execution_count": 10,
   "id": "7866eedb",
   "metadata": {},
   "outputs": [
    {
     "data": {
      "text/plain": [
       "((7359, 75, 75, 15, 3), (1578, 75, 75, 15, 3), (1577, 75, 75, 15, 3))"
      ]
     },
     "execution_count": 10,
     "metadata": {},
     "output_type": "execute_result"
    }
   ],
   "source": [
    "x_train.shape, x_test.shape, x_valid.shape"
   ]
  },
  {
   "cell_type": "code",
   "execution_count": 11,
   "id": "0ec2e201",
   "metadata": {},
   "outputs": [
    {
     "data": {
      "text/plain": [
       "(75, 75, 15, 3)"
      ]
     },
     "execution_count": 11,
     "metadata": {},
     "output_type": "execute_result"
    }
   ],
   "source": [
    "dim = x_train.shape[1:]\n",
    "dim"
   ]
  },
  {
   "cell_type": "code",
   "execution_count": 12,
   "id": "0684b323",
   "metadata": {},
   "outputs": [],
   "source": [
    "model = models.Sequential()\n",
    "# model.add(layers.BatchNormalization())\n",
    "model.add(layers.Conv3D(32, kernel_size=(3, 3, 1), activation='relu', kernel_initializer='he_uniform', data_format='channels_last', input_shape=dim))\n",
    "model.add(layers.MaxPooling3D((2, 2, 1)))\n",
    "# model.add(layers.BatchNormalization())\n",
    "model.add(layers.Conv3D(32, kernel_size=(3, 3, 2), activation='relu', kernel_initializer='he_uniform'))\n",
    "model.add(layers.MaxPooling3D((3, 3, 1)))\n",
    "# model.add(layers.BatchNormalization())\n",
    "model.add(layers.Conv3D(32, kernel_size=(3, 3, 1), activation='relu', kernel_initializer='he_uniform'))\n",
    "model.add(layers.MaxPooling3D((2, 2, 1)))\n",
    "# model.add(layers.BatchNormalization())\n",
    "model.add(layers.Flatten())\n",
    "# model.add(layers.Dropout(0.5))\n",
    "model.add(layers.Dense(4096, activation='relu'))\n",
    "model.add(layers.Dense(1024, activation='relu'))\n",
    "# model.add(layers.BatchNormalization())\n",
    "model.add(layers.Dropout(0.5))\n",
    "model.add(layers.Dense(256, activation='relu'))\n",
    "model.add(layers.Dense(16, activation='relu'))\n",
    "# model.add(layers.BatchNormalization())\n",
    "model.add(layers.Dense(1, activation='sigmoid'))"
   ]
  },
  {
   "cell_type": "code",
   "execution_count": 13,
   "id": "50500d2d",
   "metadata": {},
   "outputs": [],
   "source": [
    "# def get_model(width=128, height=128, depth=64):\n",
    "#     \"\"\"Build a 3D convolutional neural network model.\"\"\"\n",
    "\n",
    "#     inputs = keras.Input((width, height, depth, 3))\n",
    "\n",
    "#     x = layers.Conv3D(filters=64, kernel_size=3, activation=\"relu\")(inputs)\n",
    "#     x = layers.MaxPool3D(pool_size=1)(x)\n",
    "#     x = layers.BatchNormalization()(x)\n",
    "\n",
    "#     x = layers.Conv3D(filters=64, kernel_size=3, activation=\"relu\")(x)\n",
    "#     x = layers.MaxPool3D(pool_size=1)(x)\n",
    "#     x = layers.BatchNormalization()(x)\n",
    "\n",
    "#     x = layers.Conv3D(filters=128, kernel_size=3, activation=\"relu\")(x)\n",
    "#     x = layers.MaxPool3D(pool_size=2)(x)\n",
    "#     x = layers.BatchNormalization()(x)\n",
    "\n",
    "#     x = layers.Conv3D(filters=256, kernel_size=3, activation=\"relu\")(x)\n",
    "#     x = layers.MaxPool3D(pool_size=2)(x)\n",
    "#     x = layers.BatchNormalization()(x)\n",
    "\n",
    "#     x = layers.GlobalAveragePooling3D()(x)\n",
    "#     x = layers.Dense(units=512, activation=\"relu\")(x)\n",
    "#     x = layers.Dropout(0.3)(x)\n",
    "\n",
    "#     outputs = layers.Dense(units=1, activation=\"sigmoid\")(x)\n",
    "\n",
    "#     # Define the model.\n",
    "#     model = keras.Model(inputs, outputs, name=\"3dcnn\")\n",
    "#     return model\n",
    "\n",
    "\n",
    "# # Build model.\n",
    "# model = get_model(dim[0],dim[1],dim[2])\n",
    "# model.summary()"
   ]
  },
  {
   "cell_type": "code",
   "execution_count": 14,
   "id": "f418365b",
   "metadata": {},
   "outputs": [],
   "source": [
    "model.compile(loss=tf.keras.losses.BinaryCrossentropy(from_logits=False),\n",
    "              optimizer=tf.keras.optimizers.Adam(learning_rate=0.00025),\n",
    "              metrics=['accuracy'])"
   ]
  },
  {
   "cell_type": "code",
   "execution_count": 15,
   "id": "835df5cf",
   "metadata": {
    "scrolled": true
   },
   "outputs": [
    {
     "name": "stdout",
     "output_type": "stream",
     "text": [
      "Epoch 1/10\n",
      "230/230 [==============================] - 4478s 19s/step - loss: 0.1715 - accuracy: 0.9269 - val_loss: 0.0216 - val_accuracy: 0.9962\n",
      "Epoch 2/10\n",
      "230/230 [==============================] - 5016s 22s/step - loss: 0.0431 - accuracy: 0.9901 - val_loss: 0.0307 - val_accuracy: 0.9905\n",
      "Epoch 3/10\n",
      "230/230 [==============================] - 4514s 20s/step - loss: 0.0364 - accuracy: 0.9910 - val_loss: 0.0177 - val_accuracy: 0.9949\n",
      "Epoch 4/10\n",
      "230/230 [==============================] - 4569s 20s/step - loss: 0.0374 - accuracy: 0.9909 - val_loss: 0.0610 - val_accuracy: 0.9721\n",
      "Epoch 5/10\n",
      "230/230 [==============================] - 3576s 16s/step - loss: 0.0385 - accuracy: 0.9891 - val_loss: 0.0190 - val_accuracy: 0.9962\n",
      "Epoch 6/10\n",
      "230/230 [==============================] - 4911s 21s/step - loss: 0.0274 - accuracy: 0.9943 - val_loss: 0.0257 - val_accuracy: 0.9924\n",
      "Epoch 7/10\n",
      "230/230 [==============================] - 4281s 19s/step - loss: 0.0312 - accuracy: 0.9918 - val_loss: 0.0224 - val_accuracy: 0.9956\n",
      "Epoch 8/10\n",
      "230/230 [==============================] - 4215s 18s/step - loss: 0.0349 - accuracy: 0.9906 - val_loss: 0.0219 - val_accuracy: 0.9918\n",
      "Epoch 9/10\n",
      "230/230 [==============================] - 3988s 17s/step - loss: 0.0272 - accuracy: 0.9931 - val_loss: 0.0144 - val_accuracy: 0.9962\n",
      "Epoch 10/10\n",
      "230/230 [==============================] - 3841s 17s/step - loss: 0.0227 - accuracy: 0.9951 - val_loss: 0.0144 - val_accuracy: 0.9968\n"
     ]
    }
   ],
   "source": [
    "history = model.fit(x_train, y_train,\n",
    "                    batch_size=32,\n",
    "                    epochs=10,\n",
    "                    validation_data=(x_valid, y_valid),\n",
    "                    shuffle=True)"
   ]
  },
  {
   "cell_type": "code",
   "execution_count": 16,
   "id": "95cfce9b",
   "metadata": {},
   "outputs": [
    {
     "name": "stdout",
     "output_type": "stream",
     "text": [
      "Model: \"sequential\"\n",
      "_________________________________________________________________\n",
      " Layer (type)                Output Shape              Param #   \n",
      "=================================================================\n",
      " conv3d (Conv3D)             (None, 73, 73, 15, 32)    896       \n",
      "                                                                 \n",
      " max_pooling3d (MaxPooling3D  (None, 36, 36, 15, 32)   0         \n",
      " )                                                               \n",
      "                                                                 \n",
      " conv3d_1 (Conv3D)           (None, 34, 34, 14, 32)    18464     \n",
      "                                                                 \n",
      " max_pooling3d_1 (MaxPooling  (None, 11, 11, 14, 32)   0         \n",
      " 3D)                                                             \n",
      "                                                                 \n",
      " conv3d_2 (Conv3D)           (None, 9, 9, 14, 32)      9248      \n",
      "                                                                 \n",
      " max_pooling3d_2 (MaxPooling  (None, 4, 4, 14, 32)     0         \n",
      " 3D)                                                             \n",
      "                                                                 \n",
      " flatten (Flatten)           (None, 7168)              0         \n",
      "                                                                 \n",
      " dense (Dense)               (None, 4096)              29364224  \n",
      "                                                                 \n",
      " dense_1 (Dense)             (None, 1024)              4195328   \n",
      "                                                                 \n",
      " dropout (Dropout)           (None, 1024)              0         \n",
      "                                                                 \n",
      " dense_2 (Dense)             (None, 256)               262400    \n",
      "                                                                 \n",
      " dense_3 (Dense)             (None, 16)                4112      \n",
      "                                                                 \n",
      " dense_4 (Dense)             (None, 1)                 17        \n",
      "                                                                 \n",
      "=================================================================\n",
      "Total params: 33,854,689\n",
      "Trainable params: 33,854,689\n",
      "Non-trainable params: 0\n",
      "_________________________________________________________________\n"
     ]
    }
   ],
   "source": [
    "model.summary()"
   ]
  },
  {
   "cell_type": "code",
   "execution_count": 17,
   "id": "ec83805e",
   "metadata": {},
   "outputs": [
    {
     "name": "stdout",
     "output_type": "stream",
     "text": [
      "50/50 - 32s - loss: 0.0154 - accuracy: 0.9968 - 32s/epoch - 649ms/step\n"
     ]
    },
    {
     "data": {
      "text/plain": [
       "(0.015418540686368942, 0.9968314170837402)"
      ]
     },
     "execution_count": 17,
     "metadata": {},
     "output_type": "execute_result"
    }
   ],
   "source": [
    "test_loss, test_acc = model.evaluate(x_test,  y_test, verbose=2)\n",
    "test_loss, test_acc"
   ]
  },
  {
   "cell_type": "code",
   "execution_count": 18,
   "id": "2d1edbc6",
   "metadata": {},
   "outputs": [
    {
     "data": {
      "text/plain": [
       "(0.0, 0.17940418501384556)"
      ]
     },
     "execution_count": 18,
     "metadata": {},
     "output_type": "execute_result"
    },
    {
     "data": {
      "image/png": "[encoded data removed]",
      "text/plain": [
       "<Figure size 1152x576 with 2 Axes>"
      ]
     },
     "metadata": {
      "needs_background": "light"
     },
     "output_type": "display_data"
    }
   ],
   "source": [
    "def plot_graphs(history, metric):\n",
    "  plt.plot(history.history[metric])\n",
    "  plt.plot(history.history['val_'+metric], '')\n",
    "  plt.xlabel(\"Epochs\")\n",
    "  plt.ylabel(metric)\n",
    "  plt.legend([metric, 'val_'+metric])\n",
    "\n",
    "plt.figure(figsize=(16, 8))\n",
    "plt.subplot(1, 2, 1)\n",
    "plot_graphs(history, 'accuracy')\n",
    "plt.ylim(None, 1)\n",
    "\n",
    "plt.subplot(1, 2, 2)\n",
    "plot_graphs(history, 'loss')\n",
    "plt.ylim(0, None)\n",
    "# plt.savefig(f'{os.getcwd()}\\\\models\\\\ucf\\\\acc_loss_99.73.png')\n"
   ]
  },
  {
   "cell_type": "code",
   "execution_count": 19,
   "id": "14ad43ec",
   "metadata": {},
   "outputs": [
    {
     "name": "stdout",
     "output_type": "stream",
     "text": [
      "INFO:tensorflow:Assets written to: C:\\Users\\cps1\\violence_project\\venv\\Violence\\Final_Detection\\Models\\UCF_Model\\assets\n"
     ]
    }
   ],
   "source": [
    "model.save(f\"{venv}\\\\Final_Detection\\\\Models\\\\{data}_Model\")"
   ]
  }
 ],
 "metadata": {
  "kernelspec": {
   "display_name": "Python 3 (ipykernel)",
   "language": "python",
   "name": "python3"
  },
  "language_info": {
   "codemirror_mode": {
    "name": "ipython",
    "version": 3
   },
   "file_extension": ".py",
   "mimetype": "text/x-python",
   "name": "python",
   "nbconvert_exporter": "python",
   "pygments_lexer": "ipython3",
   "version": "3.9.8"
  }
 },
 "nbformat": 4,
 "nbformat_minor": 5
}
